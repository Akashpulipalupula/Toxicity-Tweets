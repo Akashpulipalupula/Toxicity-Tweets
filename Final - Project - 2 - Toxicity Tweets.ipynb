{
 "cells": [
  {
   "cell_type": "code",
   "execution_count": 1,
   "id": "4b330c0b",
   "metadata": {},
   "outputs": [],
   "source": [
    "import pandas as pd\n",
    "from sklearn.feature_extraction.text import CountVectorizer, TfidfVectorizer\n",
    "from sklearn.model_selection import train_test_split\n",
    "from sklearn.tree import DecisionTreeClassifier\n",
    "from sklearn.ensemble import RandomForestClassifier\n",
    "from sklearn.naive_bayes import MultinomialNB\n",
    "from sklearn.neighbors import KNeighborsClassifier\n",
    "from sklearn.svm import SVC\n",
    "from sklearn.metrics import precision_score, recall_score, f1_score, confusion_matrix, roc_auc_score "
   ]
  },
  {
   "cell_type": "code",
   "execution_count": 2,
   "id": "9865edc6",
   "metadata": {},
   "outputs": [],
   "source": [
    "# Step 1: Convert the CSV file to a Pandas DataFrame\n",
    "df = pd.read_csv('E:\\Data Science Course - GUVI\\Final Project\\Project - 2\\FinalBalancedDataset.csv')"
   ]
  },
  {
   "cell_type": "code",
   "execution_count": 3,
   "id": "5b57d747",
   "metadata": {},
   "outputs": [],
   "source": [
    "# Step 2: Convert the text to Bag of Words and TF-IDF\n",
    "bow_vectorizer = CountVectorizer()\n",
    "bow_features = bow_vectorizer.fit_transform(df['Tweet'])\n",
    "\n",
    "tfidf_vectorizer = TfidfVectorizer()\n",
    "tfidf_features = tfidf_vectorizer.fit_transform(df['Tweet'])"
   ]
  },
  {
   "cell_type": "code",
   "execution_count": 5,
   "id": "d27580a1",
   "metadata": {},
   "outputs": [],
   "source": [
    "# Step 3: Apply prediction methods\n",
    "X_train_bow, X_test_bow, y_train, y_test = train_test_split(bow_features, df['Toxicity'], test_size=0.2, random_state=42)\n",
    "X_train_tfidf, X_test_tfidf, y_train, y_test = train_test_split(tfidf_features, df['Toxicity'], test_size=0.2, random_state=42)"
   ]
  },
  {
   "cell_type": "code",
   "execution_count": 6,
   "id": "7883df7f",
   "metadata": {},
   "outputs": [],
   "source": [
    "# Decision Trees\n",
    "dt_classifier = DecisionTreeClassifier()\n",
    "dt_classifier.fit(X_train_bow, y_train)\n",
    "dt_predictions_bow = dt_classifier.predict(X_test_bow)\n",
    "\n",
    "dt_classifier.fit(X_train_tfidf, y_train)\n",
    "dt_predictions_tfidf = dt_classifier.predict(X_test_tfidf)"
   ]
  },
  {
   "cell_type": "code",
   "execution_count": 7,
   "id": "f9856a8f",
   "metadata": {},
   "outputs": [],
   "source": [
    "# Random Forest\n",
    "rf_classifier = RandomForestClassifier()\n",
    "rf_classifier.fit(X_train_bow, y_train)\n",
    "rf_predictions_bow = rf_classifier.predict(X_test_bow)\n",
    "\n",
    "rf_classifier.fit(X_train_tfidf, y_train)\n",
    "rf_predictions_tfidf = rf_classifier.predict(X_test_tfidf)"
   ]
  },
  {
   "cell_type": "code",
   "execution_count": 8,
   "id": "f2546da3",
   "metadata": {},
   "outputs": [],
   "source": [
    "# Naive Bayes Model\n",
    "nb_classifier = MultinomialNB()\n",
    "nb_classifier.fit(X_train_bow, y_train)\n",
    "nb_predictions_bow = nb_classifier.predict(X_test_bow)\n",
    "\n",
    "nb_classifier.fit(X_train_tfidf, y_train)\n",
    "nb_predictions_tfidf = nb_classifier.predict(X_test_tfidf)"
   ]
  },
  {
   "cell_type": "code",
   "execution_count": 9,
   "id": "d6e143c3",
   "metadata": {},
   "outputs": [
    {
     "name": "stderr",
     "output_type": "stream",
     "text": [
      "C:\\ProgramData\\Anaconda3\\lib\\site-packages\\sklearn\\neighbors\\_classification.py:228: FutureWarning: Unlike other reduction functions (e.g. `skew`, `kurtosis`), the default behavior of `mode` typically preserves the axis it acts along. In SciPy 1.11.0, this behavior will change: the default value of `keepdims` will become False, the `axis` over which the statistic is taken will be eliminated, and the value None will no longer be accepted. Set `keepdims` to True or False to avoid this warning.\n",
      "  mode, _ = stats.mode(_y[neigh_ind, k], axis=1)\n",
      "C:\\ProgramData\\Anaconda3\\lib\\site-packages\\sklearn\\neighbors\\_classification.py:228: FutureWarning: Unlike other reduction functions (e.g. `skew`, `kurtosis`), the default behavior of `mode` typically preserves the axis it acts along. In SciPy 1.11.0, this behavior will change: the default value of `keepdims` will become False, the `axis` over which the statistic is taken will be eliminated, and the value None will no longer be accepted. Set `keepdims` to True or False to avoid this warning.\n",
      "  mode, _ = stats.mode(_y[neigh_ind, k], axis=1)\n"
     ]
    }
   ],
   "source": [
    "# K-NN Classifier\n",
    "knn_classifier = KNeighborsClassifier()\n",
    "knn_classifier.fit(X_train_bow, y_train)\n",
    "knn_predictions_bow = knn_classifier.predict(X_test_bow)\n",
    "\n",
    "knn_classifier.fit(X_train_tfidf, y_train)\n",
    "knn_predictions_tfidf = knn_classifier.predict(X_test_tfidf)"
   ]
  },
  {
   "cell_type": "code",
   "execution_count": 10,
   "id": "06175aa8",
   "metadata": {},
   "outputs": [],
   "source": [
    "# SVM\n",
    "svm_classifier = SVC()\n",
    "svm_classifier.fit(X_train_bow, y_train)\n",
    "svm_predictions_bow = svm_classifier.predict(X_test_bow)\n",
    "\n",
    "svm_classifier.fit(X_train_tfidf, y_train)\n",
    "svm_predictions_tfidf = svm_classifier.predict(X_test_tfidf)"
   ]
  },
  {
   "cell_type": "code",
   "execution_count": 11,
   "id": "a9ec09ff",
   "metadata": {},
   "outputs": [
    {
     "name": "stdout",
     "output_type": "stream",
     "text": [
      "Bag of Words - Decision Trees:\n",
      "Precision: 0.9347826086956522\n",
      "Recall: 0.916957145786344\n",
      "F1-Score: 0.925784080322948\n",
      "Confusion Matrix:\n",
      "[[6160  312]\n",
      " [ 405 4472]]\n",
      "ROC-AUC Score: 0.9343747410019483\n",
      "\n"
     ]
    }
   ],
   "source": [
    "# Step 4: Calculate evaluation metrics\n",
    "print(\"Bag of Words - Decision Trees:\")\n",
    "print(\"Precision:\", precision_score(y_test, dt_predictions_bow))\n",
    "print(\"Recall:\", recall_score(y_test, dt_predictions_bow))\n",
    "print(\"F1-Score:\", f1_score(y_test, dt_predictions_bow))\n",
    "print(\"Confusion Matrix:\")\n",
    "print(confusion_matrix(y_test, dt_predictions_bow))\n",
    "print(\"ROC-AUC Score:\", roc_auc_score(y_test, dt_predictions_bow))\n",
    "print()"
   ]
  },
  {
   "cell_type": "code",
   "execution_count": 12,
   "id": "b5aeb5f9",
   "metadata": {},
   "outputs": [
    {
     "name": "stdout",
     "output_type": "stream",
     "text": [
      "TF-IDF - Decision Trees:\n",
      "Precision: 0.9184849732400164\n",
      "Recall: 0.9149067049415625\n",
      "F1-Score: 0.9166923472008217\n",
      "Confusion Matrix:\n",
      "[[6076  396]\n",
      " [ 415 4462]]\n",
      "ROC-AUC Score: 0.9268600273780742\n",
      "\n"
     ]
    }
   ],
   "source": [
    "print(\"TF-IDF - Decision Trees:\")\n",
    "print(\"Precision:\", precision_score(y_test, dt_predictions_tfidf))\n",
    "print(\"Recall:\", recall_score(y_test, dt_predictions_tfidf))\n",
    "print(\"F1-Score:\", f1_score(y_test, dt_predictions_tfidf))\n",
    "print(\"Confusion Matrix:\")\n",
    "print(confusion_matrix(y_test, dt_predictions_tfidf))\n",
    "print(\"ROC-AUC Score:\", roc_auc_score(y_test, dt_predictions_tfidf))\n",
    "print()"
   ]
  },
  {
   "cell_type": "code",
   "execution_count": 13,
   "id": "b79abe08",
   "metadata": {},
   "outputs": [
    {
     "name": "stdout",
     "output_type": "stream",
     "text": [
      "Bag of Words - Random Forest:\n",
      "Precision: 0.9268394648829431\n",
      "Recall: 0.9091654705761739\n",
      "F1-Score: 0.9179173998550875\n",
      "Confusion Matrix:\n",
      "[[6122  350]\n",
      " [ 443 4434]]\n",
      "ROC-AUC Score: 0.9275431802819064\n",
      "\n"
     ]
    }
   ],
   "source": [
    "print(\"Bag of Words - Random Forest:\")\n",
    "print(\"Precision:\", precision_score(y_test, rf_predictions_bow))\n",
    "print(\"Recall:\", recall_score(y_test, rf_predictions_bow))\n",
    "print(\"F1-Score:\", f1_score(y_test, rf_predictions_bow))\n",
    "print(\"Confusion Matrix:\")\n",
    "print(confusion_matrix(y_test, rf_predictions_bow))\n",
    "print(\"ROC-AUC Score:\", roc_auc_score(y_test, rf_predictions_bow))\n",
    "print()"
   ]
  },
  {
   "cell_type": "code",
   "execution_count": 14,
   "id": "043848f4",
   "metadata": {},
   "outputs": [
    {
     "name": "stdout",
     "output_type": "stream",
     "text": [
      "TF-IDF - Random Forest:\n",
      "Precision: 0.9295478443743428\n",
      "Recall: 0.9062948533934796\n",
      "F1-Score: 0.9177740863787376\n",
      "Confusion Matrix:\n",
      "[[6137  335]\n",
      " [ 457 4420]]\n",
      "ROC-AUC Score: 0.9272667097622528\n",
      "\n"
     ]
    }
   ],
   "source": [
    "print(\"TF-IDF - Random Forest:\")\n",
    "print(\"Precision:\", precision_score(y_test, rf_predictions_tfidf))\n",
    "print(\"Recall:\", recall_score(y_test, rf_predictions_tfidf))\n",
    "print(\"F1-Score:\", f1_score(y_test, rf_predictions_tfidf))\n",
    "print(\"Confusion Matrix:\")\n",
    "print(confusion_matrix(y_test, rf_predictions_tfidf))\n",
    "print(\"ROC-AUC Score:\", roc_auc_score(y_test, rf_predictions_tfidf))\n",
    "print()"
   ]
  },
  {
   "cell_type": "code",
   "execution_count": 15,
   "id": "3f792af6",
   "metadata": {},
   "outputs": [
    {
     "name": "stdout",
     "output_type": "stream",
     "text": [
      "Bag of Words - Naive Bayes:\n",
      "Precision: 0.8822495606326889\n",
      "Recall: 0.9263891736723395\n",
      "F1-Score: 0.9037807561512301\n",
      "Confusion Matrix:\n",
      "[[5869  603]\n",
      " [ 359 4518]]\n",
      "ROC-AUC Score: 0.916609296354093\n",
      "\n"
     ]
    }
   ],
   "source": [
    "print(\"Bag of Words - Naive Bayes:\")\n",
    "print(\"Precision:\", precision_score(y_test, nb_predictions_bow))\n",
    "print(\"Recall:\", recall_score(y_test, nb_predictions_bow))\n",
    "print(\"F1-Score:\", f1_score(y_test, nb_predictions_bow))\n",
    "print(\"Confusion Matrix:\")\n",
    "print(confusion_matrix(y_test, nb_predictions_bow))\n",
    "print(\"ROC-AUC Score:\", roc_auc_score(y_test, nb_predictions_bow))\n",
    "print()"
   ]
  },
  {
   "cell_type": "code",
   "execution_count": 16,
   "id": "46e9454c",
   "metadata": {},
   "outputs": [
    {
     "name": "stdout",
     "output_type": "stream",
     "text": [
      "TF-IDF - Naive Bayes:\n",
      "Precision: 0.9047915370255134\n",
      "Recall: 0.8944022964937461\n",
      "F1-Score: 0.8995669210146422\n",
      "Confusion Matrix:\n",
      "[[6013  459]\n",
      " [ 515 4362]]\n",
      "ROC-AUC Score: 0.9117407032530536\n",
      "\n"
     ]
    }
   ],
   "source": [
    "print(\"TF-IDF - Naive Bayes:\")\n",
    "print(\"Precision:\", precision_score(y_test, nb_predictions_tfidf))\n",
    "print(\"Recall:\", recall_score(y_test, nb_predictions_tfidf))\n",
    "print(\"F1-Score:\", f1_score(y_test, nb_predictions_tfidf))\n",
    "print(\"Confusion Matrix:\")\n",
    "print(confusion_matrix(y_test, nb_predictions_tfidf))\n",
    "print(\"ROC-AUC Score:\", roc_auc_score(y_test, nb_predictions_tfidf))\n",
    "print()"
   ]
  },
  {
   "cell_type": "code",
   "execution_count": 17,
   "id": "eddc070d",
   "metadata": {},
   "outputs": [
    {
     "name": "stdout",
     "output_type": "stream",
     "text": [
      "Bag of Words - K-NN:\n",
      "Precision: 0.8760027504011002\n",
      "Recall: 0.7836784908755382\n",
      "F1-Score: 0.8272727272727273\n",
      "Confusion Matrix:\n",
      "[[5931  541]\n",
      " [1055 3822]]\n",
      "ROC-AUC Score: 0.8500438189853586\n",
      "\n"
     ]
    }
   ],
   "source": [
    "print(\"Bag of Words - K-NN:\")\n",
    "print(\"Precision:\", precision_score(y_test, knn_predictions_bow))\n",
    "print(\"Recall:\", recall_score(y_test, knn_predictions_bow))\n",
    "print(\"F1-Score:\", f1_score(y_test, knn_predictions_bow))\n",
    "print(\"Confusion Matrix:\")\n",
    "print(confusion_matrix(y_test, knn_predictions_bow))\n",
    "print(\"ROC-AUC Score:\", roc_auc_score(y_test, knn_predictions_bow))\n",
    "print()"
   ]
  },
  {
   "cell_type": "code",
   "execution_count": 18,
   "id": "9ce80bdc",
   "metadata": {},
   "outputs": [
    {
     "name": "stdout",
     "output_type": "stream",
     "text": [
      "TF-IDF - K-NN:\n",
      "Precision: 0.8955075701166543\n",
      "Recall: 0.7397990567972114\n",
      "F1-Score: 0.8102402874466652\n",
      "Confusion Matrix:\n",
      "[[6051  421]\n",
      " [1269 3608]]\n",
      "ROC-AUC Score: 0.8373748065197429\n",
      "\n"
     ]
    }
   ],
   "source": [
    "print(\"TF-IDF - K-NN:\")\n",
    "print(\"Precision:\", precision_score(y_test, knn_predictions_tfidf))\n",
    "print(\"Recall:\", recall_score(y_test, knn_predictions_tfidf))\n",
    "print(\"F1-Score:\", f1_score(y_test, knn_predictions_tfidf))\n",
    "print(\"Confusion Matrix:\")\n",
    "print(confusion_matrix(y_test, knn_predictions_tfidf))\n",
    "print(\"ROC-AUC Score:\", roc_auc_score(y_test, knn_predictions_tfidf))\n",
    "print()"
   ]
  },
  {
   "cell_type": "code",
   "execution_count": 19,
   "id": "5a40cf40",
   "metadata": {},
   "outputs": [
    {
     "name": "stdout",
     "output_type": "stream",
     "text": [
      "Bag of Words - SVM:\n",
      "Precision: 0.96440489432703\n",
      "Recall: 0.8888661062128358\n",
      "F1-Score: 0.9250960307298336\n",
      "Confusion Matrix:\n",
      "[[6312  160]\n",
      " [ 542 4335]]\n",
      "ROC-AUC Score: 0.9320721136750211\n",
      "\n"
     ]
    }
   ],
   "source": [
    "print(\"Bag of Words - SVM:\")\n",
    "print(\"Precision:\", precision_score(y_test, svm_predictions_bow))\n",
    "print(\"Recall:\", recall_score(y_test, svm_predictions_bow))\n",
    "print(\"F1-Score:\", f1_score(y_test, svm_predictions_bow))\n",
    "print(\"Confusion Matrix:\")\n",
    "print(confusion_matrix(y_test, svm_predictions_bow))\n",
    "print(\"ROC-AUC Score:\", roc_auc_score(y_test, svm_predictions_bow))\n",
    "print()"
   ]
  },
  {
   "cell_type": "code",
   "execution_count": 20,
   "id": "3df8aefd",
   "metadata": {},
   "outputs": [
    {
     "name": "stdout",
     "output_type": "stream",
     "text": [
      "TF-IDF - SVM:\n",
      "Precision: 0.9674706793538393\n",
      "Recall: 0.8964527373385278\n",
      "F1-Score: 0.9306087696892296\n",
      "Confusion Matrix:\n",
      "[[6325  147]\n",
      " [ 505 4372]]\n",
      "ROC-AUC Score: 0.9368697555666681\n",
      "\n"
     ]
    }
   ],
   "source": [
    "print(\"TF-IDF - SVM:\")\n",
    "print(\"Precision:\", precision_score(y_test, svm_predictions_tfidf))\n",
    "print(\"Recall:\", recall_score(y_test, svm_predictions_tfidf))\n",
    "print(\"F1-Score:\", f1_score(y_test, svm_predictions_tfidf))\n",
    "print(\"Confusion Matrix:\")\n",
    "print(confusion_matrix(y_test, svm_predictions_tfidf))\n",
    "print(\"ROC-AUC Score:\", roc_auc_score(y_test, svm_predictions_tfidf))\n",
    "print()"
   ]
  },
  {
   "cell_type": "code",
   "execution_count": null,
   "id": "594b5aad",
   "metadata": {},
   "outputs": [],
   "source": []
  }
 ],
 "metadata": {
  "kernelspec": {
   "display_name": "Python 3 (ipykernel)",
   "language": "python",
   "name": "python3"
  },
  "language_info": {
   "codemirror_mode": {
    "name": "ipython",
    "version": 3
   },
   "file_extension": ".py",
   "mimetype": "text/x-python",
   "name": "python",
   "nbconvert_exporter": "python",
   "pygments_lexer": "ipython3",
   "version": "3.9.13"
  }
 },
 "nbformat": 4,
 "nbformat_minor": 5
}
